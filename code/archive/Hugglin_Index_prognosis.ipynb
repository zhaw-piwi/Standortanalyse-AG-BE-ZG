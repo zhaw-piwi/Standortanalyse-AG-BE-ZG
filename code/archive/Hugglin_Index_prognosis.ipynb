{
 "cells": [
  {
   "cell_type": "code",
   "execution_count": 36,
   "id": "57730835-3e8a-4485-aa98-012c86f98ee5",
   "metadata": {},
   "outputs": [],
   "source": [
    "import netCDF4\n",
    "from osgeo import gdal\n",
    "from osgeo import osr\n",
    "import numpy as np\n",
    "from datetime import datetime\n",
    "import matplotlib.pyplot as plt\n",
    "import geopandas as gpd\n",
    "import pandas as pd\n",
    "import glob\n",
    "import os\n",
    "import rasterio\n",
    "from rasterio.crs import CRS\n",
    "from rasterio.transform import from_origin\n",
    "# Helperfunction to calculate the number of days from the origin (1900-1-1 00:00:00)\n",
    "def get_days(year, month, day, hour, minute = 0, second = 0, origin = datetime(1900, 1, 1, 0, 0, 0)):\n",
    "    diff = datetime(year, month, day, hour, minute, second)-origin\n",
    "    days = diff.days + (diff.seconds/24/3600)\n",
    "    return(days)"
   ]
  },
  {
   "cell_type": "code",
   "execution_count": 2,
   "id": "12541f11-5d9e-4f18-8158-cd4097194e3a",
   "metadata": {},
   "outputs": [
    {
     "name": "stdout",
     "output_type": "stream",
     "text": [
      "SMHI-RCA RCP85 tas:../data/prognosedaten/tas_SMHI-RCA-HADGEM-EUR44-RCP85_QM_1981-2099_10-229_2-102_mask.nc\n",
      "SMHI-RCA RCP85 tasmax:../data/prognosedaten/tasmax_SMHI-RCA-HADGEM-EUR44-RCP85_QM_1981-2099_10-229_2-102_mask.nc\n",
      "SMHI-RCA RCP45 tas:../data/prognosedaten/tas_SMHI-RCA-HADGEM-EUR44-RCP45_QM_1981-2099_10-229_2-102_mask.nc\n",
      "SMHI-RCA RCP45 tasmax:../data/prognosedaten/tasmax_SMHI-RCA-HADGEM-EUR44-RCP45_QM_1981-2099_10-229_2-102_mask.nc\n",
      "SMHI-RCA RCP26 tas:../data/prognosedaten/tas_SMHI-RCA-HADGEM-EUR44-RCP26_QM_1981-2099_10-229_2-102_mask.nc\n",
      "SMHI-RCA RCP26 tasmax:../data/prognosedaten/tasmax_SMHI-RCA-HADGEM-EUR44-RCP26_QM_1981-2099_10-229_2-102_mask.nc\n",
      "MPICSC-REMO1 RCP85 tas:../data/prognosedaten/tas_MPICSC-REMO1-MPIESM-EUR11-RCP85_QM_1981-2099_10-229_2-102_mask.nc\n",
      "MPICSC-REMO1 RCP85 tasmax:../data/prognosedaten/tasmax_MPICSC-REMO1-MPIESM-EUR11-RCP85_QM_1981-2099_10-229_2-102_mask.nc\n",
      "MPICSC-REMO1 RCP45 tas:../data/prognosedaten/tas_MPICSC-REMO1-MPIESM-EUR11-RCP45_QM_1981-2099_10-229_2-102_mask.nc\n",
      "MPICSC-REMO1 RCP45 tasmax:../data/prognosedaten/tasmax_MPICSC-REMO1-MPIESM-EUR11-RCP45_QM_1981-2099_10-229_2-102_mask.nc\n",
      "MPICSC-REMO1 RCP26 tas:../data/prognosedaten/tas_MPICSC-REMO1-MPIESM-EUR11-RCP26_QM_1981-2099_10-229_2-102_mask.nc\n",
      "MPICSC-REMO1 RCP26 tasmax:../data/prognosedaten/tasmax_MPICSC-REMO1-MPIESM-EUR11-RCP26_QM_1981-2099_10-229_2-102_mask.nc\n",
      "DMI-HIRHAM RCP85 tas:../data/prognosedaten/tas_DMI-HIRHAM-ECEARTH-EUR11-RCP85_QM_1981-2099_10-229_2-102_mask.nc\n",
      "DMI-HIRHAM RCP85 tasmax:../data/prognosedaten/tasmax_DMI-HIRHAM-ECEARTH-EUR11-RCP85_QM_1981-2099_10-229_2-102_mask.nc\n",
      "DMI-HIRHAM RCP45 tas:../data/prognosedaten/tas_DMI-HIRHAM-ECEARTH-EUR11-RCP45_QM_1981-2099_10-229_2-102_mask.nc\n",
      "DMI-HIRHAM RCP45 tasmax:../data/prognosedaten/tasmax_DMI-HIRHAM-ECEARTH-EUR11-RCP45_QM_1981-2099_10-229_2-102_mask.nc\n",
      "DMI-HIRHAM RCP26 tas:../data/prognosedaten/tas_DMI-HIRHAM-ECEARTH-EUR11-RCP26_QM_1981-2099_10-229_2-102_mask.nc\n",
      "DMI-HIRHAM RCP26 tasmax:../data/prognosedaten/tasmax_DMI-HIRHAM-ECEARTH-EUR11-RCP26_QM_1981-2099_10-229_2-102_mask.nc\n"
     ]
    }
   ],
   "source": [
    "models = [\"SMHI-RCA\", \"MPICSC-REMO1\", \"DMI-HIRHAM\"]\n",
    "variants = [\"RCP85\", \"RCP45\", \"RCP26\"]\n",
    "variables = [\"tas\", \"tasmax\"]\n",
    "\n",
    "models_dict = {model: {variant: {variable: glob.glob(\"../data/prognosedaten/\"+variable+\"_\"+\"*\"+model+\"*\"+variant+\"*\"+\".nc\") for variable in variables} for variant in variants} for model in models}\n",
    "\n",
    "\n",
    "for model_name in models_dict.keys():\n",
    "    for variant_name in models_dict[model_name]:\n",
    "        for variable_name in models_dict[model_name][variant_name]:\n",
    "            file = models_dict[model_name][variant_name][variable_name]\n",
    "            print(model_name+\" \"+variant_name+\" \" + variable_name+\":\"+file[0])\n"
   ]
  },
  {
   "cell_type": "code",
   "execution_count": 3,
   "id": "a58dba84-100f-44e2-adef-582b5a0ea034",
   "metadata": {},
   "outputs": [],
   "source": [
    "tas_1981_2099 = netCDF4.Dataset(\"../data/prognosedaten/tas_DMI-HIRHAM-ECEARTH-EUR11-RCP26_QM_1981-2099_10-229_2-102_mask.nc\")\n",
    "tasmax_1981_2099 = netCDF4.Dataset(\"../data/prognosedaten/tasmax_DMI-HIRHAM-ECEARTH-EUR11-RCP26_QM_1981-2099_10-229_2-102_mask.nc\")"
   ]
  },
  {
   "cell_type": "code",
   "execution_count": 4,
   "id": "4f90baa8-b647-4063-a532-dc1514e940a8",
   "metadata": {},
   "outputs": [
    {
     "data": {
      "text/plain": [
       "{'lon': <class 'netCDF4._netCDF4.Dimension'>: name = 'lon', size = 220,\n",
       " 'lat': <class 'netCDF4._netCDF4.Dimension'>: name = 'lat', size = 101,\n",
       " 'time': <class 'netCDF4._netCDF4.Dimension'> (unlimited): name = 'time', size = 43464}"
      ]
     },
     "execution_count": 4,
     "metadata": {},
     "output_type": "execute_result"
    }
   ],
   "source": [
    "# what dimensions does the netCDF file have?\n",
    "tas_1981_2099.dimensions\n",
    "tasmax_1981_2099.dimensions\n",
    "\n",
    "# the shape of lon 220 cells (each 2km) east-west, looks correct\n",
    "# the shape of lat 101 cells (each 2km) north-south, looks correct\n",
    "# the shape of time 43'434 days, ~118 days (1981-2099) looks correct"
   ]
  },
  {
   "cell_type": "code",
   "execution_count": 5,
   "id": "b1ad6988-fa9c-4bbf-a6a6-9827d349aa34",
   "metadata": {},
   "outputs": [
    {
     "data": {
      "text/plain": [
       "dict_keys(['lon', 'lat', 'time', 'tasmax'])"
      ]
     },
     "execution_count": 5,
     "metadata": {},
     "output_type": "execute_result"
    }
   ],
   "source": [
    "# What variables does the dataset have?\n",
    "tas_1981_2099.variables.keys()\n",
    "tasmax_1981_2099.variables.keys()"
   ]
  },
  {
   "cell_type": "code",
   "execution_count": 6,
   "id": "60e074f2-6a2a-4326-a345-ee8a01b389f8",
   "metadata": {},
   "outputs": [
    {
     "data": {
      "text/plain": [
       "<class 'netCDF4._netCDF4.Variable'>\n",
       "float32 tas(time, lat, lon)\n",
       "    long_name: daily mean temperature\n",
       "    units: degrees_C\n",
       "    _FillValue: -999.0\n",
       "    missing_value: -999.0\n",
       "    grid_name: ch02.lonlat\n",
       "    version: v1.2\n",
       "    prod_date: 2013-08-30 10:47:37\n",
       "    method: Bias-corrected and downscaled by QM\n",
       "unlimited dimensions: time\n",
       "current shape = (43464, 101, 220)\n",
       "filling on"
      ]
     },
     "execution_count": 6,
     "metadata": {},
     "output_type": "execute_result"
    }
   ],
   "source": [
    "# metadata on variable \"tas\"\n",
    "tas_1981_2099.variables[\"tas\"]"
   ]
  },
  {
   "cell_type": "code",
   "execution_count": 7,
   "id": "6e562b33-7b97-4f81-b29f-bc8007ba1adf",
   "metadata": {},
   "outputs": [
    {
     "data": {
      "text/plain": [
       "<class 'netCDF4._netCDF4.Variable'>\n",
       "float32 tasmax(time, lat, lon)\n",
       "    long_name: daily maximum temperature\n",
       "    units: degrees_C\n",
       "    _FillValue: -999.0\n",
       "    missing_value: -999.0\n",
       "    grid_name: ch02.lonlat\n",
       "    version: v1.2\n",
       "    prod_date: 2013-08-30 10:47:37\n",
       "    method: Bias-corrected and downscaled by QM\n",
       "unlimited dimensions: time\n",
       "current shape = (43464, 101, 220)\n",
       "filling on"
      ]
     },
     "execution_count": 7,
     "metadata": {},
     "output_type": "execute_result"
    }
   ],
   "source": [
    "tasmax_1981_2099.variables[\"tasmax\"]"
   ]
  },
  {
   "cell_type": "code",
   "execution_count": 8,
   "id": "c0109e42-d38b-4e2e-bf67-001895edef52",
   "metadata": {},
   "outputs": [
    {
     "data": {
      "text/plain": [
       "<class 'netCDF4._netCDF4.Variable'>\n",
       "float64 time(time)\n",
       "    standard_name: time\n",
       "    long_name: time\n",
       "    units: days since 1900-1-1 00:00:00\n",
       "    calendar: standard\n",
       "    axis: T\n",
       "unlimited dimensions: time\n",
       "current shape = (43464,)\n",
       "filling on, default _FillValue of 9.969209968386869e+36 used"
      ]
     },
     "execution_count": 8,
     "metadata": {},
     "output_type": "execute_result"
    }
   ],
   "source": [
    "# metadata on variable \"time\"\n",
    "tas_1981_2099.variables[\"time\"]"
   ]
  },
  {
   "cell_type": "code",
   "execution_count": 9,
   "id": "fd7adb17-a522-4995-b52b-33196c247b98",
   "metadata": {},
   "outputs": [
    {
     "data": {
      "text/plain": [
       "<class 'netCDF4._netCDF4.Variable'>\n",
       "float64 time(time)\n",
       "    standard_name: time\n",
       "    long_name: time\n",
       "    units: days since 1900-1-1 00:00:00\n",
       "    calendar: standard\n",
       "    axis: T\n",
       "unlimited dimensions: time\n",
       "current shape = (43464,)\n",
       "filling on, default _FillValue of 9.969209968386869e+36 used"
      ]
     },
     "execution_count": 9,
     "metadata": {},
     "output_type": "execute_result"
    }
   ],
   "source": [
    "tasmax_1981_2099.variables[\"time\"]"
   ]
  },
  {
   "cell_type": "code",
   "execution_count": 10,
   "id": "131b1159-eb85-44cb-9109-60634d4661b7",
   "metadata": {},
   "outputs": [
    {
     "data": {
      "text/plain": [
       "masked_array(data=[29585.5, 29586.5, 29587.5, ..., 73046.5, 73047.5,\n",
       "                   73048.5],\n",
       "             mask=False,\n",
       "       fill_value=1e+20)"
      ]
     },
     "execution_count": 10,
     "metadata": {},
     "output_type": "execute_result"
    }
   ],
   "source": [
    "# values are floating point (!) values (since it's always 12 noon instead of midnight)\n",
    "# the values start at 29'585.5 and end on 73'048.5\n",
    "times = tas_1981_2099.variables[\"time\"][:]\n",
    "\n",
    "times"
   ]
  },
  {
   "cell_type": "code",
   "execution_count": 11,
   "id": "f9a7e539-a69c-4743-bcab-f1fa57afccad",
   "metadata": {},
   "outputs": [
    {
     "data": {
      "text/html": [
       "<div>\n",
       "<style scoped>\n",
       "    .dataframe tbody tr th:only-of-type {\n",
       "        vertical-align: middle;\n",
       "    }\n",
       "\n",
       "    .dataframe tbody tr th {\n",
       "        vertical-align: top;\n",
       "    }\n",
       "\n",
       "    .dataframe thead th {\n",
       "        text-align: right;\n",
       "    }\n",
       "</style>\n",
       "<table border=\"1\" class=\"dataframe\">\n",
       "  <thead>\n",
       "    <tr style=\"text-align: right;\">\n",
       "      <th></th>\n",
       "      <th>times</th>\n",
       "      <th>times2</th>\n",
       "      <th>unequal</th>\n",
       "    </tr>\n",
       "  </thead>\n",
       "  <tbody>\n",
       "  </tbody>\n",
       "</table>\n",
       "</div>"
      ],
      "text/plain": [
       "Empty DataFrame\n",
       "Columns: [times, times2, unequal]\n",
       "Index: []"
      ]
     },
     "execution_count": 11,
     "metadata": {},
     "output_type": "execute_result"
    }
   ],
   "source": [
    "times2 = tasmax_1981_2099.variables[\"time\"][:]\n",
    "\n",
    "# The length of variable time is same for both datasets (43464)\n",
    "len(times2) == len(times)\n",
    "\n",
    "# however, the values are not. In 43'095 of 43'464 cases (the values do not match up)\n",
    "comp_times = pd.DataFrame({\"times\":times, \"times2\":times2, \"unequal\": times != times2})\n",
    "sum(comp_times[\"unequal\"])\n",
    "\n",
    "# apparently, the values of \"tasmax_1981_2099\" is \"0\" in these cases\n",
    "# I will assume that this is an issue of \"tasmax_1981_2099\", and that the dates do in fact correspond to each other\n",
    "comp_times[comp_times[\"unequal\"]]\n",
    "\n"
   ]
  },
  {
   "cell_type": "code",
   "execution_count": 12,
   "id": "e8b778b7-2f16-4bab-92ce-fd3dd29815dd",
   "metadata": {},
   "outputs": [
    {
     "data": {
      "text/plain": [
       "masked_array(data=[45.77083333, 45.79166667, 45.8125    , 45.83333333,\n",
       "                   45.85416667, 45.875     , 45.89583333, 45.91666667,\n",
       "                   45.9375    , 45.95833333, 45.97916667, 46.        ,\n",
       "                   46.02083333, 46.04166667, 46.0625    , 46.08333333,\n",
       "                   46.10416667, 46.125     , 46.14583333, 46.16666667,\n",
       "                   46.1875    , 46.20833333, 46.22916667, 46.25      ,\n",
       "                   46.27083333, 46.29166667, 46.3125    , 46.33333333,\n",
       "                   46.35416667, 46.375     , 46.39583333, 46.41666667,\n",
       "                   46.4375    , 46.45833333, 46.47916667, 46.5       ,\n",
       "                   46.52083333, 46.54166667, 46.5625    , 46.58333333,\n",
       "                   46.60416667, 46.625     , 46.64583333, 46.66666667,\n",
       "                   46.6875    , 46.70833333, 46.72916667, 46.75      ,\n",
       "                   46.77083333, 46.79166667, 46.8125    , 46.83333333,\n",
       "                   46.85416667, 46.875     , 46.89583333, 46.91666667,\n",
       "                   46.9375    , 46.95833333, 46.97916667, 47.        ,\n",
       "                   47.02083333, 47.04166667, 47.0625    , 47.08333333,\n",
       "                   47.10416667, 47.125     , 47.14583333, 47.16666667,\n",
       "                   47.1875    , 47.20833333, 47.22916667, 47.25      ,\n",
       "                   47.27083333, 47.29166667, 47.3125    , 47.33333333,\n",
       "                   47.35416667, 47.375     , 47.39583333, 47.41666667,\n",
       "                   47.4375    , 47.45833333, 47.47916667, 47.5       ,\n",
       "                   47.52083333, 47.54166667, 47.5625    , 47.58333333,\n",
       "                   47.60416667, 47.625     , 47.64583333, 47.66666667,\n",
       "                   47.6875    , 47.70833333, 47.72916667, 47.75      ,\n",
       "                   47.77083333, 47.79166667, 47.8125    , 47.83333333,\n",
       "                   47.85416667],\n",
       "             mask=False,\n",
       "       fill_value=1e+20)"
      ]
     },
     "execution_count": 12,
     "metadata": {},
     "output_type": "execute_result"
    }
   ],
   "source": [
    "# lat, lon are indeed in WGS84\n",
    "lats = tas_1981_2099.variables[\"lat\"][:]\n",
    "lons = tas_1981_2099.variables[\"lon\"][:]\n",
    "lats"
   ]
  },
  {
   "cell_type": "code",
   "execution_count": 13,
   "id": "062ac390-90f4-4c32-a574-1adc17d3857a",
   "metadata": {},
   "outputs": [
    {
     "data": {
      "text/plain": [
       "True"
      ]
     },
     "execution_count": 13,
     "metadata": {},
     "output_type": "execute_result"
    }
   ],
   "source": [
    "# At least spatially, the datasets match up exatly\n",
    "all(tas_1981_2099.variables[\"lat\"][:] == tasmax_1981_2099.variables[\"lat\"][:])\n",
    "all(tas_1981_2099.variables[\"lon\"][:] == tasmax_1981_2099.variables[\"lon\"][:])"
   ]
  },
  {
   "cell_type": "code",
   "execution_count": 14,
   "id": "5d21393e-e995-4bdb-b1f8-f14a528597a5",
   "metadata": {},
   "outputs": [
    {
     "data": {
      "text/plain": [
       "masked_array(\n",
       "  data=[[--, --, --, ..., --, --, --],\n",
       "        [--, --, --, ..., --, --, --],\n",
       "        [--, --, --, ..., --, --, --],\n",
       "        ...,\n",
       "        [--, --, --, ..., --, --, --],\n",
       "        [--, --, --, ..., --, --, --],\n",
       "        [--, --, --, ..., --, --, --]],\n",
       "  mask=[[ True,  True,  True, ...,  True,  True,  True],\n",
       "        [ True,  True,  True, ...,  True,  True,  True],\n",
       "        [ True,  True,  True, ...,  True,  True,  True],\n",
       "        ...,\n",
       "        [ True,  True,  True, ...,  True,  True,  True],\n",
       "        [ True,  True,  True, ...,  True,  True,  True],\n",
       "        [ True,  True,  True, ...,  True,  True,  True]],\n",
       "  fill_value=-999.0,\n",
       "  dtype=float32)"
      ]
     },
     "execution_count": 14,
     "metadata": {},
     "output_type": "execute_result"
    }
   ],
   "source": [
    "# I can extract the first day of the dataset *by the position* like so\n",
    "tas_0 = tas_1981_2099.variables[\"tas\"][0,]\n",
    "tas_0"
   ]
  },
  {
   "cell_type": "code",
   "execution_count": 15,
   "id": "bd55da66-8c66-42e8-9cab-d89c729270ed",
   "metadata": {},
   "outputs": [
    {
     "data": {
      "text/plain": [
       "17987"
      ]
     },
     "execution_count": 15,
     "metadata": {},
     "output_type": "execute_result"
    }
   ],
   "source": [
    "# to get the position when provided a date, I need to do this:\n",
    "# (using the helperfunction to get the number of days since 1900-01-01 00:00:00)\n",
    "\n",
    "np.argmin(np.abs(times - get_days(2030, 4, 1, 12)))\n",
    "\n",
    "# see https://stackoverflow.com/a/29136166/4139249"
   ]
  },
  {
   "cell_type": "code",
   "execution_count": 16,
   "id": "088c6bc5-a4b8-4d5f-abae-32a4e413c6fe",
   "metadata": {},
   "outputs": [
    {
     "data": {
      "text/plain": [
       "90"
      ]
     },
     "execution_count": 16,
     "metadata": {},
     "output_type": "execute_result"
    }
   ],
   "source": [
    "# lets wrap this in a function\n",
    "\n",
    "def index_from_value(values, value):\n",
    "    return np.argmin(np.abs(values-value))\n",
    "\n",
    "day_idx = get_days(2030,4,1,12)\n",
    "index_from_value(times, day_idx)\n",
    "index_from_value(lons, 7.810031)\n",
    "\n",
    "\n",
    "\n"
   ]
  },
  {
   "cell_type": "code",
   "execution_count": 17,
   "id": "67c7dc65-4b8f-487a-b6a1-a97e9cbec991",
   "metadata": {},
   "outputs": [
    {
     "data": {
      "text/plain": [
       "<matplotlib.image.AxesImage at 0x7fad8c0c1810>"
      ]
     },
     "execution_count": 17,
     "metadata": {},
     "output_type": "execute_result"
    },
    {
     "data": {
      "image/png": "[encoded data removed]",
      "text/plain": [
       "<Figure size 432x288 with 1 Axes>"
      ]
     },
     "metadata": {
      "needs_background": "light"
     },
     "output_type": "display_data"
    }
   ],
   "source": [
    "# I can plot this raster using numpy's pyplot\n",
    "# but the y axis needs to be flipped\n",
    "# plt.imshow(tas_0)\n",
    "plt.imshow(np.flip(tas_0, 0))"
   ]
  },
  {
   "cell_type": "code",
   "execution_count": 18,
   "id": "0bf75321-b316-4634-9247-32165a2e893a",
   "metadata": {},
   "outputs": [
    {
     "data": {
      "text/plain": [
       "<matplotlib.image.AxesImage at 0x7fad83f9be50>"
      ]
     },
     "execution_count": 18,
     "metadata": {},
     "output_type": "execute_result"
    },
    {
     "data": {
      "image/png": "[encoded data removed]",
      "text/plain": [
       "<Figure size 432x288 with 1 Axes>"
      ]
     },
     "metadata": {
      "needs_background": "light"
     },
     "output_type": "display_data"
    }
   ],
   "source": [
    "# You can subset a specific area by passing ranges in [ ]\n",
    "plt.imshow(np.flip(tas_1981_2099.variables[\"tas\"][2,40:50,100:110], 0))"
   ]
  },
  {
   "cell_type": "code",
   "execution_count": 19,
   "id": "450e0952-67f4-4cda-933c-dd2f9b068ef3",
   "metadata": {},
   "outputs": [
    {
     "data": {
      "text/plain": [
       "<class 'netCDF4._netCDF4.Variable'>\n",
       "float32 tas(time, lat, lon)\n",
       "    long_name: daily mean temperature\n",
       "    units: degrees_C\n",
       "    _FillValue: -999.0\n",
       "    missing_value: -999.0\n",
       "    grid_name: ch02.lonlat\n",
       "    version: v1.2\n",
       "    prod_date: 2013-08-30 10:47:37\n",
       "    method: Bias-corrected and downscaled by QM\n",
       "unlimited dimensions: time\n",
       "current shape = (43464, 101, 220)\n",
       "filling on"
      ]
     },
     "execution_count": 19,
     "metadata": {},
     "output_type": "execute_result"
    }
   ],
   "source": [
    "tas_1981_2099[\"/tas/\"]"
   ]
  },
  {
   "cell_type": "markdown",
   "id": "c656376c-7fad-4887-ad1f-7ffa3a996750",
   "metadata": {},
   "source": [
    "\n",
    "What I need to calculate is the following (pseudocode):\n",
    "\n",
    "```\n",
    "for years in 2031-2040:\n",
    "    for days in 30.09.year-01.04.(year+1):\n",
    "        ((tas-10)+(tas_max-10))/2*1.045\n",
    "        \n",
    "```\n",
    "\n",
    "Variable `time` is in the `units`: `number of days since 1900-1-1 00:00:00`\n"
   ]
  },
  {
   "cell_type": "code",
   "execution_count": 20,
   "id": "892632a9-6170-48c9-9ecd-f2490bea0240",
   "metadata": {},
   "outputs": [],
   "source": [
    "times_dict = {x:[get_days(x, 9, 30, 12), get_days(x+1, 4,1,12)] for x in range(2031, 2041)}\n",
    "\n",
    "\n",
    "    \n"
   ]
  },
  {
   "cell_type": "code",
   "execution_count": 21,
   "id": "13c46035-bfe2-482e-bc9b-d9fdf1879ce6",
   "metadata": {},
   "outputs": [
    {
     "data": {
      "text/html": [
       "<div>\n",
       "<style scoped>\n",
       "    .dataframe tbody tr th:only-of-type {\n",
       "        vertical-align: middle;\n",
       "    }\n",
       "\n",
       "    .dataframe tbody tr th {\n",
       "        vertical-align: top;\n",
       "    }\n",
       "\n",
       "    .dataframe thead th {\n",
       "        text-align: right;\n",
       "    }\n",
       "</style>\n",
       "<table border=\"1\" class=\"dataframe\">\n",
       "  <thead>\n",
       "    <tr style=\"text-align: right;\">\n",
       "      <th></th>\n",
       "      <th>minx</th>\n",
       "      <th>miny</th>\n",
       "      <th>maxx</th>\n",
       "      <th>maxy</th>\n",
       "    </tr>\n",
       "  </thead>\n",
       "  <tbody>\n",
       "    <tr>\n",
       "      <th>8</th>\n",
       "      <td>7.810031</td>\n",
       "      <td>46.757013</td>\n",
       "      <td>8.540349</td>\n",
       "      <td>47.30518</td>\n",
       "    </tr>\n",
       "  </tbody>\n",
       "</table>\n",
       "</div>"
      ],
      "text/plain": [
       "       minx       miny      maxx      maxy\n",
       "8  7.810031  46.757013  8.540349  47.30518"
      ]
     },
     "execution_count": 21,
     "metadata": {},
     "output_type": "execute_result"
    }
   ],
   "source": [
    "# Import the kanton of luzern ....\n",
    "kantonsgrenze = gpd.read_file(\"../data/swissBOUNDARIES3D_1_3_LV95_LN02.gdb/\", layer = \"TLM_KANTONSGEBIET\").query(\"NAME == 'Luzern'\") # fiona.listlayers(\"data/swissBOUNDARIES3D_1_3_LV95_LN02.gdb/\")\n",
    "\n",
    "# buffer it with 2km, transform it to wsg84 and get the bounding box\n",
    "kanton_bounds = kantonsgrenze.buffer(2000).to_crs(4326).bounds\n",
    "kanton_bounds"
   ]
  },
  {
   "cell_type": "code",
   "execution_count": 22,
   "id": "bbae2e86-3efe-431e-8038-7c3b1feb5e64",
   "metadata": {},
   "outputs": [
    {
     "data": {
      "text/plain": [
       "[7.810030844025151, 8.540348762846177]"
      ]
     },
     "execution_count": 22,
     "metadata": {},
     "output_type": "execute_result"
    }
   ],
   "source": [
    "# boundary_dict = {\"lat\":[7.810031, 8.540349], \"lon\":[46.757013,47.30518]}\n",
    "lon = [7.810031, 8.540349]\n",
    "lat = [46.757013,47.30518]\n",
    "\n",
    "lon = [kanton_bounds[\"minx\"].iloc[0], kanton_bounds[\"maxx\"].iloc[0]]\n",
    "lat = [kanton_bounds[\"miny\"].iloc[0], kanton_bounds[\"maxy\"].iloc[0]]\n",
    "\n",
    "\n",
    "lon"
   ]
  },
  {
   "cell_type": "code",
   "execution_count": 24,
   "id": "f00ce44e-eb83-4d84-adaa-a1a092b28433",
   "metadata": {},
   "outputs": [
    {
     "name": "stdout",
     "output_type": "stream",
     "text": [
      "SMHI-RCA RCP85 tasmax:../data/prognosedaten/tas_SMHI-RCA-HADGEM-EUR44-RCP85_QM_1981-2099_10-229_2-102_mask.nc\n",
      "2031 : 18534 to 18718\n",
      "2032 : 18900 to 19083\n",
      "2033 : 19265 to 19448\n",
      "2034 : 19630 to 19813\n",
      "2035 : 19995 to 20179\n",
      "2036 : 20361 to 20544\n",
      "2037 : 20726 to 20909\n",
      "2038 : 21091 to 21274\n",
      "2039 : 21456 to 21640\n",
      "2040 : 21822 to 22005\n",
      "SMHI-RCA RCP45 tasmax:../data/prognosedaten/tas_SMHI-RCA-HADGEM-EUR44-RCP45_QM_1981-2099_10-229_2-102_mask.nc\n",
      "2031 : 18534 to 18718\n",
      "2032 : 18900 to 19083\n",
      "2033 : 19265 to 19448\n",
      "2034 : 19630 to 19813\n",
      "2035 : 19995 to 20179\n",
      "2036 : 20361 to 20544\n",
      "2037 : 20726 to 20909\n",
      "2038 : 21091 to 21274\n",
      "2039 : 21456 to 21640\n",
      "2040 : 21822 to 22005\n",
      "SMHI-RCA RCP26 tasmax:../data/prognosedaten/tas_SMHI-RCA-HADGEM-EUR44-RCP26_QM_1981-2099_10-229_2-102_mask.nc\n",
      "2031 : 18534 to 18718\n",
      "2032 : 18900 to 19083\n",
      "2033 : 19265 to 19448\n",
      "2034 : 19630 to 19813\n",
      "2035 : 19995 to 20179\n",
      "2036 : 20361 to 20544\n",
      "2037 : 20726 to 20909\n",
      "2038 : 21091 to 21274\n",
      "2039 : 21456 to 21640\n",
      "2040 : 21822 to 22005\n",
      "MPICSC-REMO1 RCP85 tasmax:../data/prognosedaten/tas_MPICSC-REMO1-MPIESM-EUR11-RCP85_QM_1981-2099_10-229_2-102_mask.nc\n",
      "2031 : 18534 to 18718\n",
      "2032 : 18900 to 19083\n",
      "2033 : 19265 to 19448\n",
      "2034 : 19630 to 19813\n",
      "2035 : 19995 to 20179\n",
      "2036 : 20361 to 20544\n",
      "2037 : 20726 to 20909\n",
      "2038 : 21091 to 21274\n",
      "2039 : 21456 to 21640\n",
      "2040 : 21822 to 22005\n",
      "MPICSC-REMO1 RCP45 tasmax:../data/prognosedaten/tas_MPICSC-REMO1-MPIESM-EUR11-RCP45_QM_1981-2099_10-229_2-102_mask.nc\n",
      "2031 : 18534 to 18718\n",
      "2032 : 18900 to 19083\n",
      "2033 : 19265 to 19448\n",
      "2034 : 19630 to 19813\n",
      "2035 : 19995 to 20179\n",
      "2036 : 20361 to 20544\n",
      "2037 : 20726 to 20909\n",
      "2038 : 21091 to 21274\n",
      "2039 : 21456 to 21640\n",
      "2040 : 21822 to 22005\n",
      "MPICSC-REMO1 RCP26 tasmax:../data/prognosedaten/tas_MPICSC-REMO1-MPIESM-EUR11-RCP26_QM_1981-2099_10-229_2-102_mask.nc\n",
      "2031 : 18534 to 18718\n",
      "2032 : 18900 to 19083\n",
      "2033 : 19265 to 19448\n",
      "2034 : 19630 to 19813\n",
      "2035 : 19995 to 20179\n",
      "2036 : 20361 to 20544\n",
      "2037 : 20726 to 20909\n",
      "2038 : 21091 to 21274\n",
      "2039 : 21456 to 21640\n",
      "2040 : 21822 to 22005\n",
      "DMI-HIRHAM RCP85 tasmax:../data/prognosedaten/tas_DMI-HIRHAM-ECEARTH-EUR11-RCP85_QM_1981-2099_10-229_2-102_mask.nc\n",
      "2031 : 18534 to 18718\n",
      "2032 : 18900 to 19083\n",
      "2033 : 19265 to 19448\n",
      "2034 : 19630 to 19813\n",
      "2035 : 19995 to 20179\n",
      "2036 : 20361 to 20544\n",
      "2037 : 20726 to 20909\n",
      "2038 : 21091 to 21274\n",
      "2039 : 21456 to 21640\n",
      "2040 : 21822 to 22005\n",
      "DMI-HIRHAM RCP45 tasmax:../data/prognosedaten/tas_DMI-HIRHAM-ECEARTH-EUR11-RCP45_QM_1981-2099_10-229_2-102_mask.nc\n",
      "2031 : 18534 to 18718\n",
      "2032 : 18900 to 19083\n",
      "2033 : 19265 to 19448\n",
      "2034 : 19630 to 19813\n",
      "2035 : 19995 to 20179\n",
      "2036 : 20361 to 20544\n",
      "2037 : 20726 to 20909\n",
      "2038 : 21091 to 21274\n",
      "2039 : 21456 to 21640\n",
      "2040 : 21822 to 22005\n",
      "DMI-HIRHAM RCP26 tasmax:../data/prognosedaten/tas_DMI-HIRHAM-ECEARTH-EUR11-RCP26_QM_1981-2099_10-229_2-102_mask.nc\n",
      "2031 : 18534 to 18718\n",
      "2032 : 18900 to 19083\n",
      "2033 : 19265 to 19448\n",
      "2034 : 19630 to 19813\n",
      "2035 : 19995 to 20179\n",
      "2036 : 20361 to 20544\n",
      "2037 : 20726 to 20909\n",
      "2038 : 21091 to 21274\n",
      "2039 : 21456 to 21640\n",
      "2040 : 21822 to 22005\n"
     ]
    }
   ],
   "source": [
    "lon_idx = [index_from_value(lons, x) for x in lon]\n",
    "lat_idx = [index_from_value(lats, x) for x in lat]\n",
    "\n",
    "\n",
    "for model_name in models_dict.keys():\n",
    "    for variant_name in models_dict[model_name]:\n",
    "        tas_filename = models_dict[model_name][variant_name][\"tas\"][0]       # unsafe if there are multiple matches \n",
    "        tasmax_filename = models_dict[model_name][variant_name][\"tasmax\"][0] # same goes for this line\n",
    "        print(model_name+\" \"+variant_name+\" \" + variable_name+\":\"+tas_filename)\n",
    "        \n",
    "        tas = netCDF4.Dataset(tas_filename)\n",
    "        tasmax = netCDF4.Dataset(tasmax_filename)\n",
    "        \n",
    "        all_years = []\n",
    "        for year, date_idxs in times_dict.items():\n",
    "            start_date_idx = index_from_value(times, date_idxs[0])\n",
    "            end_date_idx = index_from_value(times, date_idxs[1])\n",
    "            print(year, \":\",start_date_idx, \"to\", end_date_idx)\n",
    "            subset_mean = tas.variables[\"tas\"][start_date_idx:end_date_idx,lat_idx[0]:lat_idx[1],lon_idx[0]:lon_idx[1]]\n",
    "            subset_max = tasmax.variables[\"tasmax\"][start_date_idx:end_date_idx,lat_idx[0]:lat_idx[1],lon_idx[0]:lon_idx[1]]\n",
    "\n",
    "            # the magic happens here:\n",
    "            res = np.sum(((subset_mean-10)+(subset_max-10))/2*1.045,axis = 0)\n",
    "            all_years.append(res)\n",
    "\n",
    "            xmin,ymin,xmax,ymax = lon[0], lat[0], lon[1], lat[1]\n",
    "\n",
    "            nrows,ncols = np.shape(res)\n",
    "\n",
    "            xres = (xmax-xmin)/float(ncols)\n",
    "            yres = (ymax-ymin)/float(nrows)\n",
    "            geotransform=(xmin, xres, 0,ymax, 0, -yres) \n",
    "            subdir = \"../output/\"+model_name+\"/\"+variant_name+\"/\"\n",
    "            os.makedirs(subdir, exist_ok=True)\n",
    "            \n",
    "            \n",
    "#             output_raster = gdal.GetDriverByName(\"GTiff\").Create(subdir+str(year)+\".tif\", res.shape[1], res.shape[0], 1, gdal.GDT_Float32)\n",
    "#             output_raster.SetGeoTransform(geotransform)  # Specify its coordinates\n",
    "#             srs = osr.SpatialReference()                 # Establish its coordinate encoding\n",
    "#             srs.ImportFromEPSG(4326)   \n",
    "#             output_raster.SetProjection( srs.ExportToWkt() )   # Exports the coordinate system \n",
    "#             output_raster.GetRasterBand(1).WriteArray(res)   # Writes my array to the raster\n",
    "#             output_raster.FlushCache()\n",
    "\n",
    "#             del output_raster\n",
    "            \n",
    "#         all_years_np = np.stack(all_years)\n",
    "#         all_years_mean = np.mean(all_years_np, axis = 0)\n",
    "        \n",
    "#         output_raster = gdal.GetDriverByName(\"GTiff\").Create(subdir+\"Mean.tif\", res.shape[1], res.shape[0], 1, gdal.GDT_Float32)\n",
    "#         output_raster.SetGeoTransform(geotransform)  # Specify its coordinates\n",
    "#         srs = osr.SpatialReference()                 # Establish its coordinate encoding\n",
    "#         srs.ImportFromEPSG(4326)   \n",
    "#         output_raster.SetProjection( srs.ExportToWkt() )   # Exports the coordinate system \n",
    "#         output_raster.GetRasterBand(1).WriteArray(all_years_mean)   # Writes my array to the raster\n",
    "#         output_raster.FlushCache()\n",
    "        \n",
    "#         del output_raster\n",
    "        "
   ]
  },
  {
   "cell_type": "code",
   "execution_count": null,
   "id": "6156c9b5-372c-4963-a1f8-b40ab9a25d00",
   "metadata": {},
   "outputs": [],
   "source": [
    "crs = CRS.from_epsg(4326)\n",
    "transform = from_origin(xmin, ymax, xres, yres)\n",
    "with rasterio.open(subdir+str(year)+\".tif\",\n",
    "                   \"w\", \n",
    "                   driver = \"GTiff\", \n",
    "                   height=res.shape[0], \n",
    "                   width = res.shape[1], \n",
    "                   count = 1, \n",
    "                   dtype = res.dtype,\n",
    "                   transform = transform,\n",
    "                   crs = crs, masked = True\n",
    "                  ) as dst:\n",
    "        dst.write(res, 1)"
   ]
  }
 ],
 "metadata": {
  "kernelspec": {
   "display_name": "Python 3 (ipykernel)",
   "language": "python",
   "name": "python3"
  },
  "language_info": {
   "codemirror_mode": {
    "name": "ipython",
    "version": 3
   },
   "file_extension": ".py",
   "mimetype": "text/x-python",
   "name": "python",
   "nbconvert_exporter": "python",
   "pygments_lexer": "ipython3",
   "version": "3.10.4"
  }
 },
 "nbformat": 4,
 "nbformat_minor": 5
}
