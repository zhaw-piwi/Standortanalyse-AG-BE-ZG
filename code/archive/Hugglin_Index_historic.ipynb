{
 "cells": [
  {
   "cell_type": "code",
   "execution_count": 375,
   "id": "57730835-3e8a-4485-aa98-012c86f98ee5",
   "metadata": {},
   "outputs": [],
   "source": [
    "import netCDF4\n",
    "from osgeo import gdal\n",
    "from osgeo import osr\n",
    "import numpy as np\n",
    "from datetime import datetime\n",
    "import matplotlib.pyplot as plt\n",
    "import geopandas as gpd\n",
    "import pandas as pd\n",
    "import glob\n",
    "import os\n",
    "import re\n",
    "import rasterio\n",
    "from rasterio.crs import CRS\n",
    "from rasterio.transform import from_origin\n",
    "# Helperfunction to calculate the number of days from the origin (1900-1-1 00:00:00)\n",
    "def get_days(year, month, day, hour, minute = 0, second = 0, origin = datetime(1900, 1, 1, 0, 0, 0)):\n",
    "    diff = datetime(year, month, day, hour, minute, second)-origin\n",
    "    days = diff.days + (diff.seconds/24/3600)\n",
    "    return(days)"
   ]
  },
  {
   "cell_type": "code",
   "execution_count": null,
   "id": "553ac3ce-dbd7-47d2-abc0-395c2d2ab723",
   "metadata": {},
   "outputs": [],
   "source": []
  },
  {
   "cell_type": "code",
   "execution_count": 376,
   "id": "fba52fd7-be0c-438c-ae8b-9c5b79d2d379",
   "metadata": {},
   "outputs": [
    {
     "data": {
      "text/plain": [
       "['../data/historische_daten/TmaxD_11_21_ch01r.swiss.lv95/TmaxD_ch01r.swiss.lv95_201601010000_201612310000.nc',\n",
       " '../data/historische_daten/TmaxD_11_21_ch01r.swiss.lv95/TmaxD_ch01r.swiss.lv95_201301010000_201312310000.nc',\n",
       " '../data/historische_daten/TmaxD_11_21_ch01r.swiss.lv95/TmaxD_ch01r.swiss.lv95_201801010000_201812310000.nc',\n",
       " '../data/historische_daten/TmaxD_11_21_ch01r.swiss.lv95/TmaxD_ch01r.swiss.lv95_201401010000_201412310000.nc',\n",
       " '../data/historische_daten/TmaxD_11_21_ch01r.swiss.lv95/TmaxD_ch01r.swiss.lv95_201101010000_201112310000.nc',\n",
       " '../data/historische_daten/TmaxD_11_21_ch01r.swiss.lv95/TmaxD_ch01r.swiss.lv95_201701010000_201712310000.nc',\n",
       " '../data/historische_daten/TmaxD_11_21_ch01r.swiss.lv95/TmaxD_ch01r.swiss.lv95_201501010000_201512310000.nc',\n",
       " '../data/historische_daten/TmaxD_11_21_ch01r.swiss.lv95/TmaxD_ch01r.swiss.lv95_201201010000_201212310000.nc',\n",
       " '../data/historische_daten/TmaxD_11_21_ch01r.swiss.lv95/TmaxD_ch01r.swiss.lv95_202101010000_202112310000.nc',\n",
       " '../data/historische_daten/TmaxD_11_21_ch01r.swiss.lv95/TmaxD_ch01r.swiss.lv95_201901010000_201912310000.nc',\n",
       " '../data/historische_daten/TmaxD_11_21_ch01r.swiss.lv95/TmaxD_ch01r.swiss.lv95_202001010000_202012310000.nc']"
      ]
     },
     "execution_count": 376,
     "metadata": {},
     "output_type": "execute_result"
    }
   ],
   "source": [
    "all_nc = glob.glob(\"../data/historische_daten/TmaxD_11_21_ch01r.swiss.lv95//*.nc\")\n",
    "\n",
    "all_nc"
   ]
  },
  {
   "cell_type": "code",
   "execution_count": 377,
   "id": "80ef7630-daa8-4ed4-be26-1ea14ec13733",
   "metadata": {},
   "outputs": [
    {
     "data": {
      "text/plain": [
       "{2012: {'thisMean': '../data/historische_daten/TabsD_2001_2021_LV95/TabsD_ch01r.swiss.lv95_201201010000_201212310000.nc',\n",
       "  'nextMean': '../data/historische_daten/TabsD_2001_2021_LV95/TabsD_ch01r.swiss.lv95_201301010000_201312310000.nc',\n",
       "  'thisMax': '../data/historische_daten/TmaxD_11_21_ch01r.swiss.lv95/TmaxD_ch01r.swiss.lv95_201201010000_201212310000.nc',\n",
       "  'nextMax': '../data/historische_daten/TmaxD_11_21_ch01r.swiss.lv95/TmaxD_ch01r.swiss.lv95_201301010000_201312310000.nc'},\n",
       " 2013: {'thisMean': '../data/historische_daten/TabsD_2001_2021_LV95/TabsD_ch01r.swiss.lv95_201301010000_201312310000.nc',\n",
       "  'nextMean': '../data/historische_daten/TabsD_2001_2021_LV95/TabsD_ch01r.swiss.lv95_201401010000_201412310000.nc',\n",
       "  'thisMax': '../data/historische_daten/TmaxD_11_21_ch01r.swiss.lv95/TmaxD_ch01r.swiss.lv95_201301010000_201312310000.nc',\n",
       "  'nextMax': '../data/historische_daten/TmaxD_11_21_ch01r.swiss.lv95/TmaxD_ch01r.swiss.lv95_201401010000_201412310000.nc'},\n",
       " 2014: {'thisMean': '../data/historische_daten/TabsD_2001_2021_LV95/TabsD_ch01r.swiss.lv95_201401010000_201412310000.nc',\n",
       "  'nextMean': '../data/historische_daten/TabsD_2001_2021_LV95/TabsD_ch01r.swiss.lv95_201501010000_201512310000.nc',\n",
       "  'thisMax': '../data/historische_daten/TmaxD_11_21_ch01r.swiss.lv95/TmaxD_ch01r.swiss.lv95_201401010000_201412310000.nc',\n",
       "  'nextMax': '../data/historische_daten/TmaxD_11_21_ch01r.swiss.lv95/TmaxD_ch01r.swiss.lv95_201501010000_201512310000.nc'},\n",
       " 2015: {'thisMean': '../data/historische_daten/TabsD_2001_2021_LV95/TabsD_ch01r.swiss.lv95_201501010000_201512310000.nc',\n",
       "  'nextMean': '../data/historische_daten/TabsD_2001_2021_LV95/TabsD_ch01r.swiss.lv95_201601010000_201612310000.nc',\n",
       "  'thisMax': '../data/historische_daten/TmaxD_11_21_ch01r.swiss.lv95/TmaxD_ch01r.swiss.lv95_201501010000_201512310000.nc',\n",
       "  'nextMax': '../data/historische_daten/TmaxD_11_21_ch01r.swiss.lv95/TmaxD_ch01r.swiss.lv95_201601010000_201612310000.nc'},\n",
       " 2016: {'thisMean': '../data/historische_daten/TabsD_2001_2021_LV95/TabsD_ch01r.swiss.lv95_201601010000_201612310000.nc',\n",
       "  'nextMean': '../data/historische_daten/TabsD_2001_2021_LV95/TabsD_ch01r.swiss.lv95_201701010000_201712310000.nc',\n",
       "  'thisMax': '../data/historische_daten/TmaxD_11_21_ch01r.swiss.lv95/TmaxD_ch01r.swiss.lv95_201601010000_201612310000.nc',\n",
       "  'nextMax': '../data/historische_daten/TmaxD_11_21_ch01r.swiss.lv95/TmaxD_ch01r.swiss.lv95_201701010000_201712310000.nc'},\n",
       " 2017: {'thisMean': '../data/historische_daten/TabsD_2001_2021_LV95/TabsD_ch01r.swiss.lv95_201701010000_201712310000.nc',\n",
       "  'nextMean': '../data/historische_daten/TabsD_2001_2021_LV95/TabsD_ch01r.swiss.lv95_201801010000_201812310000.nc',\n",
       "  'thisMax': '../data/historische_daten/TmaxD_11_21_ch01r.swiss.lv95/TmaxD_ch01r.swiss.lv95_201701010000_201712310000.nc',\n",
       "  'nextMax': '../data/historische_daten/TmaxD_11_21_ch01r.swiss.lv95/TmaxD_ch01r.swiss.lv95_201801010000_201812310000.nc'},\n",
       " 2018: {'thisMean': '../data/historische_daten/TabsD_2001_2021_LV95/TabsD_ch01r.swiss.lv95_201801010000_201812310000.nc',\n",
       "  'nextMean': '../data/historische_daten/TabsD_2001_2021_LV95/TabsD_ch01r.swiss.lv95_201901010000_201912310000.nc',\n",
       "  'thisMax': '../data/historische_daten/TmaxD_11_21_ch01r.swiss.lv95/TmaxD_ch01r.swiss.lv95_201801010000_201812310000.nc',\n",
       "  'nextMax': '../data/historische_daten/TmaxD_11_21_ch01r.swiss.lv95/TmaxD_ch01r.swiss.lv95_201901010000_201912310000.nc'},\n",
       " 2019: {'thisMean': '../data/historische_daten/TabsD_2001_2021_LV95/TabsD_ch01r.swiss.lv95_201901010000_201912310000.nc',\n",
       "  'nextMean': '../data/historische_daten/TabsD_2001_2021_LV95/TabsD_ch01r.swiss.lv95_202001010000_202012310000.nc',\n",
       "  'thisMax': '../data/historische_daten/TmaxD_11_21_ch01r.swiss.lv95/TmaxD_ch01r.swiss.lv95_201901010000_201912310000.nc',\n",
       "  'nextMax': '../data/historische_daten/TmaxD_11_21_ch01r.swiss.lv95/TmaxD_ch01r.swiss.lv95_202001010000_202012310000.nc'},\n",
       " 2020: {'thisMean': '../data/historische_daten/TabsD_2001_2021_LV95/TabsD_ch01r.swiss.lv95_202001010000_202012310000.nc',\n",
       "  'nextMean': '../data/historische_daten/TabsD_2001_2021_LV95/TabsD_ch01r.swiss.lv95_202101010000_202112310000.nc',\n",
       "  'thisMax': '../data/historische_daten/TmaxD_11_21_ch01r.swiss.lv95/TmaxD_ch01r.swiss.lv95_202001010000_202012310000.nc',\n",
       "  'nextMax': '../data/historische_daten/TmaxD_11_21_ch01r.swiss.lv95/TmaxD_ch01r.swiss.lv95_202101010000_202112310000.nc'}}"
      ]
     },
     "execution_count": 377,
     "metadata": {},
     "output_type": "execute_result"
    }
   ],
   "source": [
    "tabs = glob.glob(\"../data/historische_daten/TabsD_2001_2021_LV95/*.nc\")\n",
    "tmax = glob.glob(\"../data/historische_daten/TmaxD_11_21_ch01r.swiss.lv95/*.nc\")\n",
    "\n",
    "nc_per_year = {}\n",
    "for year in range(2012, 2021):\n",
    "    dict_per_year = {}\n",
    "    dict_per_year[\"thisMean\"] = [file for file in tabs if re.search(str(year)+\"01010000_\"+str(year)+\"12310000\", file)][0]     # slightly unsafe (if there are multiple matches)\n",
    "    dict_per_year[\"nextMean\"] = [file for file in tabs if re.search(str(year+1)+\"01010000_\"+str(year+1)+\"12310000\", file)][0] # slightly unsafe (if there are multiple matches)\n",
    "    dict_per_year[\"thisMax\"] = [file for file in tmax if re.search(str(year)+\"01010000_\"+str(year)+\"12310000\", file)][0]     # slightly unsafe (if there are multiple matches)\n",
    "    dict_per_year[\"nextMax\"] = [file for file in tmax if re.search(str(year+1)+\"01010000_\"+str(year+1)+\"12310000\", file)][0] # slightly unsafe (if there are multiple matches)\n",
    "    nc_per_year[year] = dict_per_year\n",
    "    \n",
    "nc_per_year"
   ]
  },
  {
   "cell_type": "code",
   "execution_count": 378,
   "id": "a58dba84-100f-44e2-adef-582b5a0ea034",
   "metadata": {},
   "outputs": [],
   "source": [
    "tmean_2012 = netCDF4.Dataset(nc_per_year[2012][\"thisMean\"])\n",
    "tmax_2012 = netCDF4.Dataset(nc_per_year[2012][\"thisMax\"])\n"
   ]
  },
  {
   "cell_type": "code",
   "execution_count": 379,
   "id": "4f90baa8-b647-4063-a532-dc1514e940a8",
   "metadata": {},
   "outputs": [
    {
     "data": {
      "text/plain": [
       "{'E': <class 'netCDF4._netCDF4.Dimension'>: name = 'E', size = 370,\n",
       " 'N': <class 'netCDF4._netCDF4.Dimension'>: name = 'N', size = 240,\n",
       " 'time': <class 'netCDF4._netCDF4.Dimension'> (unlimited): name = 'time', size = 366}"
      ]
     },
     "execution_count": 379,
     "metadata": {},
     "output_type": "execute_result"
    }
   ],
   "source": [
    "# what dimensions does the netCDF file have?\n",
    "tmean_2012.dimensions\n",
    "tmax_2012.dimensions\n",
    "\n",
    "# the shape of lon 370 cells (each **1**km) east-west, looks correct\n",
    "# the shape of lat 240 cells (each **1**km) north-south, looks correct\n",
    "# the shape of time 366 days, looks correct"
   ]
  },
  {
   "cell_type": "code",
   "execution_count": 380,
   "id": "b1ad6988-fa9c-4bbf-a6a6-9827d349aa34",
   "metadata": {},
   "outputs": [
    {
     "data": {
      "text/plain": [
       "dict_keys(['swiss_lv95_coordinates', 'E', 'N', 'time', 'TmaxD', 'lon', 'lat'])"
      ]
     },
     "execution_count": 380,
     "metadata": {},
     "output_type": "execute_result"
    }
   ],
   "source": [
    "# What variables does the dataset have?\n",
    "tmean_2012.variables.keys()\n",
    "tmax_2012.variables.keys()"
   ]
  },
  {
   "cell_type": "code",
   "execution_count": 381,
   "id": "60e074f2-6a2a-4326-a345-ee8a01b389f8",
   "metadata": {},
   "outputs": [
    {
     "data": {
      "text/plain": [
       "<class 'netCDF4._netCDF4.Variable'>\n",
       "float32 TabsD(time, N, E)\n",
       "    units: degree\n",
       "    _FillValue: -999.99\n",
       "    grid_mapping: swiss_lv95_coordinates\n",
       "    coordinates: lon lat\n",
       "    long_name: daily mean temperature\n",
       "    grid_name: ch01r.swiss.lv95\n",
       "    version: v1.2\n",
       "    prod_date: 2021-09-08 04:42:56\n",
       "unlimited dimensions: time\n",
       "current shape = (366, 240, 370)\n",
       "filling on"
      ]
     },
     "execution_count": 381,
     "metadata": {},
     "output_type": "execute_result"
    }
   ],
   "source": [
    "# metadata on variable \"tas\"\n",
    "\n",
    "tmean_2012.variables[\"TabsD\"] # daily mean temperature\n"
   ]
  },
  {
   "cell_type": "code",
   "execution_count": 382,
   "id": "6e562b33-7b97-4f81-b29f-bc8007ba1adf",
   "metadata": {},
   "outputs": [
    {
     "data": {
      "text/plain": [
       "<class 'netCDF4._netCDF4.Variable'>\n",
       "float32 TmaxD(time, N, E)\n",
       "    units: degree\n",
       "    _FillValue: -999.99\n",
       "    grid_mapping: swiss_lv95_coordinates\n",
       "    coordinates: lon lat\n",
       "    long_name: daily maximum temperature\n",
       "    grid_name: ch01r.swiss.lv95\n",
       "    version: v1.2\n",
       "    prod_date: 2021-09-11 00:03:03\n",
       "unlimited dimensions: time\n",
       "current shape = (366, 240, 370)\n",
       "filling on"
      ]
     },
     "execution_count": 382,
     "metadata": {},
     "output_type": "execute_result"
    }
   ],
   "source": [
    "tmax_2012.variables[\"TmaxD\"]  # daily maximum temperature\n"
   ]
  },
  {
   "cell_type": "code",
   "execution_count": 383,
   "id": "c0109e42-d38b-4e2e-bf67-001895edef52",
   "metadata": {},
   "outputs": [
    {
     "data": {
      "text/plain": [
       "<class 'netCDF4._netCDF4.Variable'>\n",
       "float64 time(time)\n",
       "    units: days since 1900-01-01 00:00:00\n",
       "    long_name: time\n",
       "    axis: T\n",
       "    calendar: standard\n",
       "unlimited dimensions: time\n",
       "current shape = (366,)\n",
       "filling on, default _FillValue of 9.969209968386869e+36 used"
      ]
     },
     "execution_count": 383,
     "metadata": {},
     "output_type": "execute_result"
    }
   ],
   "source": [
    "# metadata on variable \"time\"\n",
    "tmax_2012.variables[\"time\"]"
   ]
  },
  {
   "cell_type": "code",
   "execution_count": 384,
   "id": "fd7adb17-a522-4995-b52b-33196c247b98",
   "metadata": {},
   "outputs": [
    {
     "data": {
      "text/plain": [
       "<class 'netCDF4._netCDF4.Variable'>\n",
       "float64 time(time)\n",
       "    units: days since 1900-01-01 00:00:00\n",
       "    long_name: time\n",
       "    axis: T\n",
       "    calendar: standard\n",
       "unlimited dimensions: time\n",
       "current shape = (366,)\n",
       "filling on, default _FillValue of 9.969209968386869e+36 used"
      ]
     },
     "execution_count": 384,
     "metadata": {},
     "output_type": "execute_result"
    }
   ],
   "source": [
    "tmean_2012.variables[\"time\"]"
   ]
  },
  {
   "cell_type": "code",
   "execution_count": 385,
   "id": "131b1159-eb85-44cb-9109-60634d4661b7",
   "metadata": {},
   "outputs": [
    {
     "data": {
      "text/plain": [
       "40907.0"
      ]
     },
     "execution_count": 385,
     "metadata": {},
     "output_type": "execute_result"
    }
   ],
   "source": [
    "# values are floating point (!) values, but the values are not at Noon (.5 missing)\n",
    "# the values start at 29'585.5 and end on 73'048.5\n",
    "times = tmax_2012.variables[\"time\"][:]\n",
    "\n",
    "times[0]"
   ]
  },
  {
   "cell_type": "code",
   "execution_count": 386,
   "id": "f9a7e539-a69c-4743-bcab-f1fa57afccad",
   "metadata": {},
   "outputs": [
    {
     "data": {
      "text/plain": [
       "True"
      ]
     },
     "execution_count": 386,
     "metadata": {},
     "output_type": "execute_result"
    }
   ],
   "source": [
    "times2 = tmean_2012.variables[\"time\"][:]\n",
    "\n",
    "# The length of variable time is same for both datasets (43464)\n",
    "len(times2) == len(times)\n",
    "\n",
    "# they are all equal\n",
    "all(times2 == times)\n"
   ]
  },
  {
   "cell_type": "code",
   "execution_count": 387,
   "id": "e8b778b7-2f16-4bab-92ce-fd3dd29815dd",
   "metadata": {},
   "outputs": [
    {
     "data": {
      "text/plain": [
       "[2474500.0, 1064500.0]"
      ]
     },
     "execution_count": 387,
     "metadata": {},
     "output_type": "execute_result"
    }
   ],
   "source": [
    "# lat, lon are indeed in EPSG:2056\n",
    "E = tmax_2012.variables[\"E\"][:]\n",
    "N = tmax_2012.variables[\"N\"][:]\n",
    "[E[0], N[0]]"
   ]
  },
  {
   "cell_type": "code",
   "execution_count": 388,
   "id": "062ac390-90f4-4c32-a574-1adc17d3857a",
   "metadata": {},
   "outputs": [
    {
     "data": {
      "text/plain": [
       "True"
      ]
     },
     "execution_count": 388,
     "metadata": {},
     "output_type": "execute_result"
    }
   ],
   "source": [
    "# Also spatially, the datasets match up exatly\n",
    "E2 = tmean_2012.variables[\"E\"][:]\n",
    "N2 = tmean_2012.variables[\"N\"][:]\n",
    "\n",
    "all(E2 == E)\n",
    "all(N2 == N)\n"
   ]
  },
  {
   "cell_type": "code",
   "execution_count": 389,
   "id": "5d21393e-e995-4bdb-b1f8-f14a528597a5",
   "metadata": {},
   "outputs": [
    {
     "data": {
      "text/plain": [
       "masked_array(\n",
       "  data=[[--, --, --, ..., --, --, --],\n",
       "        [--, --, --, ..., --, --, --],\n",
       "        [--, --, --, ..., --, --, --],\n",
       "        ...,\n",
       "        [--, --, --, ..., --, --, --],\n",
       "        [--, --, --, ..., --, --, --],\n",
       "        [--, --, --, ..., --, --, --]],\n",
       "  mask=[[ True,  True,  True, ...,  True,  True,  True],\n",
       "        [ True,  True,  True, ...,  True,  True,  True],\n",
       "        [ True,  True,  True, ...,  True,  True,  True],\n",
       "        ...,\n",
       "        [ True,  True,  True, ...,  True,  True,  True],\n",
       "        [ True,  True,  True, ...,  True,  True,  True],\n",
       "        [ True,  True,  True, ...,  True,  True,  True]],\n",
       "  fill_value=-999.99,\n",
       "  dtype=float32)"
      ]
     },
     "execution_count": 389,
     "metadata": {},
     "output_type": "execute_result"
    }
   ],
   "source": [
    "# I can extract the first day of the dataset *by the position* like so\n",
    "tas_0 = tmean_2012.variables[\"TabsD\"][0,]\n",
    "tas_0"
   ]
  },
  {
   "cell_type": "code",
   "execution_count": 390,
   "id": "bd55da66-8c66-42e8-9cab-d89c729270ed",
   "metadata": {},
   "outputs": [
    {
     "data": {
      "text/plain": [
       "91"
      ]
     },
     "execution_count": 390,
     "metadata": {},
     "output_type": "execute_result"
    }
   ],
   "source": [
    "# to get the position when provided a date, I need to do this:\n",
    "# (using the helperfunction to get the number of days since 1900-01-01 00:00:00)\n",
    "\n",
    "np.argmin(np.abs(times - get_days(2012, 4, 1, 0)))\n",
    "\n",
    "# see https://stackoverflow.com/a/29136166/4139249"
   ]
  },
  {
   "cell_type": "code",
   "execution_count": 391,
   "id": "088c6bc5-a4b8-4d5f-abae-32a4e413c6fe",
   "metadata": {},
   "outputs": [
    {
     "data": {
      "text/plain": [
       "125"
      ]
     },
     "execution_count": 391,
     "metadata": {},
     "output_type": "execute_result"
    }
   ],
   "source": [
    "# lets wrap this in a function\n",
    "\n",
    "def index_from_value(values, value):\n",
    "    return np.argmin(np.abs(values-value))\n",
    "\n",
    "day_idx = get_days(2030,4,1,0)\n",
    "index_from_value(times, day_idx)\n",
    "index_from_value(E, 2600000)\n",
    "\n",
    "\n",
    "\n"
   ]
  },
  {
   "cell_type": "code",
   "execution_count": 392,
   "id": "67c7dc65-4b8f-487a-b6a1-a97e9cbec991",
   "metadata": {},
   "outputs": [
    {
     "data": {
      "text/plain": [
       "<matplotlib.image.AxesImage at 0x7f829dd26d70>"
      ]
     },
     "execution_count": 392,
     "metadata": {},
     "output_type": "execute_result"
    },
    {
     "data": {
      "image/png": "[encoded data removed]",
      "text/plain": [
       "<Figure size 432x288 with 1 Axes>"
      ]
     },
     "metadata": {
      "needs_background": "light"
     },
     "output_type": "display_data"
    }
   ],
   "source": [
    "# I can plot this raster using numpy's pyplot\n",
    "# but the y axis needs to be flipped\n",
    "# plt.imshow(tas_0)\n",
    "plt.imshow(np.flip(tas_0, 0))"
   ]
  },
  {
   "cell_type": "code",
   "execution_count": 393,
   "id": "0bf75321-b316-4634-9247-32165a2e893a",
   "metadata": {},
   "outputs": [
    {
     "data": {
      "text/plain": [
       "<matplotlib.image.AxesImage at 0x7f829d9e5960>"
      ]
     },
     "execution_count": 393,
     "metadata": {},
     "output_type": "execute_result"
    },
    {
     "data": {
      "image/png": "[encoded data removed]",
      "text/plain": [
       "<Figure size 432x288 with 1 Axes>"
      ]
     },
     "metadata": {
      "needs_background": "light"
     },
     "output_type": "display_data"
    }
   ],
   "source": [
    "# You can subset a specific area by passing ranges in [ ]\n",
    "plt.imshow(np.flip(tabs_2012.variables[\"TabsD\"][2,40:50,100:110], 0))"
   ]
  },
  {
   "cell_type": "code",
   "execution_count": 394,
   "id": "450e0952-67f4-4cda-933c-dd2f9b068ef3",
   "metadata": {},
   "outputs": [
    {
     "data": {
      "text/plain": [
       "<class 'netCDF4._netCDF4.Variable'>\n",
       "float32 TabsD(time, N, E)\n",
       "    units: degree\n",
       "    _FillValue: -999.99\n",
       "    grid_mapping: swiss_lv95_coordinates\n",
       "    coordinates: lon lat\n",
       "    long_name: daily mean temperature\n",
       "    grid_name: ch01r.swiss.lv95\n",
       "    version: v1.2\n",
       "    prod_date: 2021-09-08 04:42:56\n",
       "unlimited dimensions: time\n",
       "current shape = (366, 240, 370)\n",
       "filling on"
      ]
     },
     "execution_count": 394,
     "metadata": {},
     "output_type": "execute_result"
    }
   ],
   "source": [
    "tabs_2012[\"/TabsD/\"]"
   ]
  },
  {
   "cell_type": "markdown",
   "id": "c656376c-7fad-4887-ad1f-7ffa3a996750",
   "metadata": {},
   "source": [
    "\n",
    "What I need to calculate is the following (pseudocode):\n",
    "\n",
    "```\n",
    "for years in 2031-2040:\n",
    "    for days in 30.09.year-01.04.(year+1):\n",
    "        ((tas-10)+(tas_max-10))/2*1.045\n",
    "        \n",
    "```\n",
    "\n",
    "Variable `time` is in the `units`: `number of days since 1900-1-1 00:00:00`\n"
   ]
  },
  {
   "cell_type": "code",
   "execution_count": 395,
   "id": "892632a9-6170-48c9-9ecd-f2490bea0240",
   "metadata": {},
   "outputs": [
    {
     "data": {
      "text/plain": [
       "{2012: {'this': [41180.0, 41272.0], 'next': [41273.0, 41363.0]},\n",
       " 2013: {'this': [41545.0, 41637.0], 'next': [41638.0, 41728.0]},\n",
       " 2014: {'this': [41910.0, 42002.0], 'next': [42003.0, 42093.0]},\n",
       " 2015: {'this': [42275.0, 42367.0], 'next': [42368.0, 42459.0]},\n",
       " 2016: {'this': [42641.0, 42733.0], 'next': [42734.0, 42824.0]},\n",
       " 2017: {'this': [43006.0, 43098.0], 'next': [43099.0, 43189.0]},\n",
       " 2018: {'this': [43371.0, 43463.0], 'next': [43464.0, 43554.0]},\n",
       " 2019: {'this': [43736.0, 43828.0], 'next': [43829.0, 43920.0]},\n",
       " 2020: {'this': [44102.0, 44194.0], 'next': [44195.0, 44285.0]}}"
      ]
     },
     "execution_count": 395,
     "metadata": {},
     "output_type": "execute_result"
    }
   ],
   "source": [
    "times_dict = {x:[get_days(x, 9, 30, 12), get_days(x+1, 4,1,12)] for x in range(2012, 2022)}\n",
    "\n",
    "times_dict = {}\n",
    "\n",
    "for year in range(2012, 2021):\n",
    "    year_dict = {}\n",
    "    year_dict[\"this\"] = [get_days(year, 9, 30, 0), get_days(year, 12, 31, 0)]\n",
    "    year_dict[\"next\"] = [get_days(year+1, 1, 1, 0), get_days(year+1, 4, 1, 0)]\n",
    "    times_dict[year] = year_dict\n",
    "    \n",
    "times_dict"
   ]
  },
  {
   "cell_type": "code",
   "execution_count": 396,
   "id": "13c46035-bfe2-482e-bc9b-d9fdf1879ce6",
   "metadata": {},
   "outputs": [
    {
     "data": {
      "text/html": [
       "<div>\n",
       "<style scoped>\n",
       "    .dataframe tbody tr th:only-of-type {\n",
       "        vertical-align: middle;\n",
       "    }\n",
       "\n",
       "    .dataframe tbody tr th {\n",
       "        vertical-align: top;\n",
       "    }\n",
       "\n",
       "    .dataframe thead th {\n",
       "        text-align: right;\n",
       "    }\n",
       "</style>\n",
       "<table border=\"1\" class=\"dataframe\">\n",
       "  <thead>\n",
       "    <tr style=\"text-align: right;\">\n",
       "      <th></th>\n",
       "      <th>minx</th>\n",
       "      <th>miny</th>\n",
       "      <th>maxx</th>\n",
       "      <th>maxy</th>\n",
       "    </tr>\n",
       "  </thead>\n",
       "  <tbody>\n",
       "    <tr>\n",
       "      <th>8</th>\n",
       "      <td>2.628130e+06</td>\n",
       "      <td>1.178571e+06</td>\n",
       "      <td>2.683764e+06</td>\n",
       "      <td>1.239690e+06</td>\n",
       "    </tr>\n",
       "  </tbody>\n",
       "</table>\n",
       "</div>"
      ],
      "text/plain": [
       "           minx          miny          maxx          maxy\n",
       "8  2.628130e+06  1.178571e+06  2.683764e+06  1.239690e+06"
      ]
     },
     "execution_count": 396,
     "metadata": {},
     "output_type": "execute_result"
    }
   ],
   "source": [
    "# Import the kanton of luzern ....\n",
    "kantonsgrenze = gpd.read_file(\"../data/swissBOUNDARIES3D_1_3_LV95_LN02.gdb/\", layer = \"TLM_KANTONSGEBIET\").query(\"NAME == 'Luzern'\") # fiona.listlayers(\"data/swissBOUNDARIES3D_1_3_LV95_LN02.gdb/\")\n",
    "\n",
    "# buffer it with 2km, transform it to wsg84 and get the bounding box\n",
    "kanton_bounds = kantonsgrenze.buffer(2000).bounds\n",
    "kanton_bounds"
   ]
  },
  {
   "cell_type": "code",
   "execution_count": 397,
   "id": "bbae2e86-3efe-431e-8038-7c3b1feb5e64",
   "metadata": {},
   "outputs": [
    {
     "data": {
      "text/plain": [
       "[1178570.734462117, 1239689.9772588543]"
      ]
     },
     "execution_count": 397,
     "metadata": {},
     "output_type": "execute_result"
    }
   ],
   "source": [
    "E_bounds = [kanton_bounds[\"minx\"].iloc[0], kanton_bounds[\"maxx\"].iloc[0]]\n",
    "N_bounds = [kanton_bounds[\"miny\"].iloc[0], kanton_bounds[\"maxy\"].iloc[0]]\n",
    "\n",
    "\n",
    "N_bounds"
   ]
  },
  {
   "cell_type": "code",
   "execution_count": 398,
   "id": "7948d192-3c3a-4640-a7ef-08cd79684364",
   "metadata": {},
   "outputs": [
    {
     "data": {
      "text/plain": [
       "{2012: {'thisMean': '../data/historische_daten/TabsD_2001_2021_LV95/TabsD_ch01r.swiss.lv95_201201010000_201212310000.nc',\n",
       "  'nextMean': '../data/historische_daten/TabsD_2001_2021_LV95/TabsD_ch01r.swiss.lv95_201301010000_201312310000.nc',\n",
       "  'thisMax': '../data/historische_daten/TmaxD_11_21_ch01r.swiss.lv95/TmaxD_ch01r.swiss.lv95_201201010000_201212310000.nc',\n",
       "  'nextMax': '../data/historische_daten/TmaxD_11_21_ch01r.swiss.lv95/TmaxD_ch01r.swiss.lv95_201301010000_201312310000.nc'},\n",
       " 2013: {'thisMean': '../data/historische_daten/TabsD_2001_2021_LV95/TabsD_ch01r.swiss.lv95_201301010000_201312310000.nc',\n",
       "  'nextMean': '../data/historische_daten/TabsD_2001_2021_LV95/TabsD_ch01r.swiss.lv95_201401010000_201412310000.nc',\n",
       "  'thisMax': '../data/historische_daten/TmaxD_11_21_ch01r.swiss.lv95/TmaxD_ch01r.swiss.lv95_201301010000_201312310000.nc',\n",
       "  'nextMax': '../data/historische_daten/TmaxD_11_21_ch01r.swiss.lv95/TmaxD_ch01r.swiss.lv95_201401010000_201412310000.nc'},\n",
       " 2014: {'thisMean': '../data/historische_daten/TabsD_2001_2021_LV95/TabsD_ch01r.swiss.lv95_201401010000_201412310000.nc',\n",
       "  'nextMean': '../data/historische_daten/TabsD_2001_2021_LV95/TabsD_ch01r.swiss.lv95_201501010000_201512310000.nc',\n",
       "  'thisMax': '../data/historische_daten/TmaxD_11_21_ch01r.swiss.lv95/TmaxD_ch01r.swiss.lv95_201401010000_201412310000.nc',\n",
       "  'nextMax': '../data/historische_daten/TmaxD_11_21_ch01r.swiss.lv95/TmaxD_ch01r.swiss.lv95_201501010000_201512310000.nc'},\n",
       " 2015: {'thisMean': '../data/historische_daten/TabsD_2001_2021_LV95/TabsD_ch01r.swiss.lv95_201501010000_201512310000.nc',\n",
       "  'nextMean': '../data/historische_daten/TabsD_2001_2021_LV95/TabsD_ch01r.swiss.lv95_201601010000_201612310000.nc',\n",
       "  'thisMax': '../data/historische_daten/TmaxD_11_21_ch01r.swiss.lv95/TmaxD_ch01r.swiss.lv95_201501010000_201512310000.nc',\n",
       "  'nextMax': '../data/historische_daten/TmaxD_11_21_ch01r.swiss.lv95/TmaxD_ch01r.swiss.lv95_201601010000_201612310000.nc'},\n",
       " 2016: {'thisMean': '../data/historische_daten/TabsD_2001_2021_LV95/TabsD_ch01r.swiss.lv95_201601010000_201612310000.nc',\n",
       "  'nextMean': '../data/historische_daten/TabsD_2001_2021_LV95/TabsD_ch01r.swiss.lv95_201701010000_201712310000.nc',\n",
       "  'thisMax': '../data/historische_daten/TmaxD_11_21_ch01r.swiss.lv95/TmaxD_ch01r.swiss.lv95_201601010000_201612310000.nc',\n",
       "  'nextMax': '../data/historische_daten/TmaxD_11_21_ch01r.swiss.lv95/TmaxD_ch01r.swiss.lv95_201701010000_201712310000.nc'},\n",
       " 2017: {'thisMean': '../data/historische_daten/TabsD_2001_2021_LV95/TabsD_ch01r.swiss.lv95_201701010000_201712310000.nc',\n",
       "  'nextMean': '../data/historische_daten/TabsD_2001_2021_LV95/TabsD_ch01r.swiss.lv95_201801010000_201812310000.nc',\n",
       "  'thisMax': '../data/historische_daten/TmaxD_11_21_ch01r.swiss.lv95/TmaxD_ch01r.swiss.lv95_201701010000_201712310000.nc',\n",
       "  'nextMax': '../data/historische_daten/TmaxD_11_21_ch01r.swiss.lv95/TmaxD_ch01r.swiss.lv95_201801010000_201812310000.nc'},\n",
       " 2018: {'thisMean': '../data/historische_daten/TabsD_2001_2021_LV95/TabsD_ch01r.swiss.lv95_201801010000_201812310000.nc',\n",
       "  'nextMean': '../data/historische_daten/TabsD_2001_2021_LV95/TabsD_ch01r.swiss.lv95_201901010000_201912310000.nc',\n",
       "  'thisMax': '../data/historische_daten/TmaxD_11_21_ch01r.swiss.lv95/TmaxD_ch01r.swiss.lv95_201801010000_201812310000.nc',\n",
       "  'nextMax': '../data/historische_daten/TmaxD_11_21_ch01r.swiss.lv95/TmaxD_ch01r.swiss.lv95_201901010000_201912310000.nc'},\n",
       " 2019: {'thisMean': '../data/historische_daten/TabsD_2001_2021_LV95/TabsD_ch01r.swiss.lv95_201901010000_201912310000.nc',\n",
       "  'nextMean': '../data/historische_daten/TabsD_2001_2021_LV95/TabsD_ch01r.swiss.lv95_202001010000_202012310000.nc',\n",
       "  'thisMax': '../data/historische_daten/TmaxD_11_21_ch01r.swiss.lv95/TmaxD_ch01r.swiss.lv95_201901010000_201912310000.nc',\n",
       "  'nextMax': '../data/historische_daten/TmaxD_11_21_ch01r.swiss.lv95/TmaxD_ch01r.swiss.lv95_202001010000_202012310000.nc'},\n",
       " 2020: {'thisMean': '../data/historische_daten/TabsD_2001_2021_LV95/TabsD_ch01r.swiss.lv95_202001010000_202012310000.nc',\n",
       "  'nextMean': '../data/historische_daten/TabsD_2001_2021_LV95/TabsD_ch01r.swiss.lv95_202101010000_202112310000.nc',\n",
       "  'thisMax': '../data/historische_daten/TmaxD_11_21_ch01r.swiss.lv95/TmaxD_ch01r.swiss.lv95_202001010000_202012310000.nc',\n",
       "  'nextMax': '../data/historische_daten/TmaxD_11_21_ch01r.swiss.lv95/TmaxD_ch01r.swiss.lv95_202101010000_202112310000.nc'}}"
      ]
     },
     "execution_count": 398,
     "metadata": {},
     "output_type": "execute_result"
    }
   ],
   "source": [
    "nc_per_year"
   ]
  },
  {
   "cell_type": "code",
   "execution_count": 485,
   "id": "dd71bbb8-afec-4afd-b7d3-10670aab70c4",
   "metadata": {},
   "outputs": [
    {
     "data": {
      "text/plain": [
       "[2628129.7065847395, 2683763.807443407]"
      ]
     },
     "execution_count": 485,
     "metadata": {},
     "output_type": "execute_result"
    }
   ],
   "source": [
    "E_bounds"
   ]
  },
  {
   "cell_type": "code",
   "execution_count": 531,
   "id": "deafeabf-102e-4d3b-a761-7e04fc1e250b",
   "metadata": {},
   "outputs": [
    {
     "name": "stdout",
     "output_type": "stream",
     "text": [
      "year 2012\n",
      "1000.0\n",
      "year 2013\n",
      "1000.0\n",
      "year 2014\n",
      "1000.0\n",
      "year 2015\n",
      "1000.0\n",
      "year 2016\n",
      "1000.0\n",
      "year 2017\n",
      "1000.0\n",
      "year 2018\n",
      "1000.0\n",
      "year 2019\n",
      "1000.0\n",
      "year 2020\n",
      "1000.0\n"
     ]
    }
   ],
   "source": [
    "# https://gis.stackexchange.com/q/37238/40929\n",
    "E_idx = [index_from_value(E, x) for x in E_bounds]\n",
    "N_idx = [index_from_value(N, x) for x in N_bounds]\n",
    "\n",
    "\n",
    "all_years = []\n",
    "for year, date_idxs in times_dict.items():\n",
    "    print(\"year\",year)\n",
    "    thisMean = netCDF4.Dataset(nc_per_year[year][\"thisMean\"])\n",
    "    thisMax = netCDF4.Dataset(nc_per_year[year][\"thisMax\"])\n",
    "    nextMean = netCDF4.Dataset(nc_per_year[year][\"nextMean\"])\n",
    "    nextMax = netCDF4.Dataset(nc_per_year[year][\"nextMax\"])\n",
    "    \n",
    "    # this years data (01-09 to 31.12)\n",
    "    times = thisMean[\"time\"][:]\n",
    "    this_start_date_idx = index_from_value(times, date_idxs[\"this\"][0])\n",
    "    this_end_date_idx = index_from_value(times, date_idxs[\"this\"][1])\n",
    "    \n",
    "    this_mean_subset = thisMean[\"TabsD\"][this_start_date_idx:this_end_date_idx,N_idx[0]:N_idx[1], E_idx[0]:E_idx[1]]\n",
    "    this_max_subset = thisMax[\"TmaxD\"][this_start_date_idx:this_end_date_idx,N_idx[0]:N_idx[1], E_idx[0]:E_idx[1]]\n",
    "    \n",
    "    # this years data (01-01 to 01.04)\n",
    "    times = nextMean[\"time\"][:]\n",
    "    next_start_date_idx = index_from_value(times, date_idxs[\"next\"][0])\n",
    "    next_end_date_idx = index_from_value(times, date_idxs[\"next\"][1])\n",
    "    \n",
    "    next_mean_subset = nextMean[\"TabsD\"][next_start_date_idx:next_end_date_idx, N_idx[0]:N_idx[1], E_idx[0]:E_idx[1]]\n",
    "    next_max_subset = nextMax[\"TmaxD\"][next_start_date_idx:next_end_date_idx, N_idx[0]:N_idx[1], E_idx[0]:E_idx[1]]\n",
    "    \n",
    "\n",
    "    # the magic happens here:\n",
    "    this_sum = np.sum(((this_mean_subset-10)+(this_max_subset-10))/2*1.045,axis = 0) # hugglin index for 30.9 - 31.12 \n",
    "    next_sum = np.sum(((next_mean_subset-10)+(next_max_subset-10))/2*1.045,axis = 0) # hugglin index for 01.1 - 01.04\n",
    "    \n",
    "    # sum of the two above\n",
    "    res = np.sum([this_sum, next_sum], axis = 0)\n",
    "    \n",
    "    all_years.append(res)\n",
    "\n",
    "    # xmin,ymin,xmax,ymax = E[E_idx][0], N[N_idx][0], E[E_idx][1],  N[N_idx][1]\n",
    "    xmin,ymin,xmax,ymax = E_bounds[0], N_bounds[0], E_bounds[1], N_bounds[1] # not tested\n",
    "\n",
    "    \n",
    "    nrows,ncols = np.shape(res)\n",
    "\n",
    "    xres = (xmax-xmin)/float(ncols)\n",
    "    yres = (ymax-ymin)/float(nrows)\n",
    "    print((xres))\n",
    "\n",
    "    geotransform=(xmin, xres, 0,ymax, 0, -yres) \n",
    "    \n",
    "    subdir = \"../output/historic/\"\n",
    "    os.makedirs(subdir, exist_ok=True)\n",
    "\n",
    "    crs = CRS.from_epsg(2056)\n",
    "    transform = from_origin(xmin, ymax, 1000, 1000)\n",
    "    with rasterio.open(subdir+str(year)+\".tif\",\n",
    "                   \"w\", \n",
    "                   driver = \"GTiff\", \n",
    "                   height=res.shape[0], \n",
    "                   width = res.shape[1], \n",
    "                   count = 1, \n",
    "                   dtype = res.dtype,\n",
    "                   transform = transform,\n",
    "                   crs = crs, masked = True\n",
    "                  ) as dst:\n",
    "        dst.write(res, 1)\n",
    "    \n",
    "    del res\n",
    "\n",
    "crs = CRS.from_epsg(2056)\n",
    "transform = from_origin(xmin, ymax, 1000, 1000)\n",
    "with rasterio.open(subdir+\"Mean.tif\",\n",
    "                   \"w\", \n",
    "                   driver = \"GTiff\", \n",
    "                   height=all_years_mean.shape[0], \n",
    "                   width = all_years_mean.shape[1], \n",
    "                   count = 1, \n",
    "                   dtype = all_years_mean.dtype,\n",
    "                   transform = transform,\n",
    "                   crs = crs, masked = True\n",
    "                  ) as dst:\n",
    "    dst.write(all_years_mean, 1)\n",
    "    \n",
    "del all_years_mean\n"
   ]
  },
  {
   "cell_type": "code",
   "execution_count": 489,
   "id": "8abc3218-16cc-4871-ac76-05e2b0a85cd2",
   "metadata": {},
   "outputs": [
    {
     "ename": "FileNotFoundError",
     "evalue": "[Errno 2] No such file or directory: 'open'",
     "output_type": "error",
     "traceback": [
      "\u001b[0;31m---------------------------------------------------------------------------\u001b[0m",
      "\u001b[0;31mFileNotFoundError\u001b[0m                         Traceback (most recent call last)",
      "Input \u001b[0;32mIn [489]\u001b[0m, in \u001b[0;36m<cell line: 57>\u001b[0;34m()\u001b[0m\n\u001b[1;32m     44\u001b[0m     \u001b[38;5;28;01mwith\u001b[39;00m rasterio\u001b[38;5;241m.\u001b[39mopen(\n\u001b[1;32m     45\u001b[0m             tiffname,\n\u001b[1;32m     46\u001b[0m             \u001b[38;5;124m'\u001b[39m\u001b[38;5;124mw\u001b[39m\u001b[38;5;124m'\u001b[39m,\n\u001b[0;32m   (...)\u001b[0m\n\u001b[1;32m     53\u001b[0m             transform\u001b[38;5;241m=\u001b[39mdst_transform,\n\u001b[1;32m     54\u001b[0m             crs\u001b[38;5;241m=\u001b[39mdst_crs) \u001b[38;5;28;01mas\u001b[39;00m dst:\n\u001b[1;32m     55\u001b[0m         dst\u001b[38;5;241m.\u001b[39mwrite(destination, indexes\u001b[38;5;241m=\u001b[39m\u001b[38;5;241m1\u001b[39m)\n\u001b[0;32m---> 57\u001b[0m info \u001b[38;5;241m=\u001b[39m \u001b[43msubprocess\u001b[49m\u001b[38;5;241;43m.\u001b[39;49m\u001b[43mcall\u001b[49m\u001b[43m(\u001b[49m\u001b[43m[\u001b[49m\u001b[38;5;124;43m'\u001b[39;49m\u001b[38;5;124;43mopen\u001b[39;49m\u001b[38;5;124;43m'\u001b[39;49m\u001b[43m,\u001b[49m\u001b[43m \u001b[49m\u001b[43mtiffname\u001b[49m\u001b[43m]\u001b[49m\u001b[43m)\u001b[49m\n",
      "File \u001b[0;32m~/miniconda3/envs/geopython/lib/python3.10/subprocess.py:345\u001b[0m, in \u001b[0;36mcall\u001b[0;34m(timeout, *popenargs, **kwargs)\u001b[0m\n\u001b[1;32m    337\u001b[0m \u001b[38;5;28;01mdef\u001b[39;00m \u001b[38;5;21mcall\u001b[39m(\u001b[38;5;241m*\u001b[39mpopenargs, timeout\u001b[38;5;241m=\u001b[39m\u001b[38;5;28;01mNone\u001b[39;00m, \u001b[38;5;241m*\u001b[39m\u001b[38;5;241m*\u001b[39mkwargs):\n\u001b[1;32m    338\u001b[0m     \u001b[38;5;124;03m\"\"\"Run command with arguments.  Wait for command to complete or\u001b[39;00m\n\u001b[1;32m    339\u001b[0m \u001b[38;5;124;03m    timeout, then return the returncode attribute.\u001b[39;00m\n\u001b[1;32m    340\u001b[0m \n\u001b[0;32m   (...)\u001b[0m\n\u001b[1;32m    343\u001b[0m \u001b[38;5;124;03m    retcode = call([\"ls\", \"-l\"])\u001b[39;00m\n\u001b[1;32m    344\u001b[0m \u001b[38;5;124;03m    \"\"\"\u001b[39;00m\n\u001b[0;32m--> 345\u001b[0m     \u001b[38;5;28;01mwith\u001b[39;00m \u001b[43mPopen\u001b[49m\u001b[43m(\u001b[49m\u001b[38;5;241;43m*\u001b[39;49m\u001b[43mpopenargs\u001b[49m\u001b[43m,\u001b[49m\u001b[43m \u001b[49m\u001b[38;5;241;43m*\u001b[39;49m\u001b[38;5;241;43m*\u001b[39;49m\u001b[43mkwargs\u001b[49m\u001b[43m)\u001b[49m \u001b[38;5;28;01mas\u001b[39;00m p:\n\u001b[1;32m    346\u001b[0m         \u001b[38;5;28;01mtry\u001b[39;00m:\n\u001b[1;32m    347\u001b[0m             \u001b[38;5;28;01mreturn\u001b[39;00m p\u001b[38;5;241m.\u001b[39mwait(timeout\u001b[38;5;241m=\u001b[39mtimeout)\n",
      "File \u001b[0;32m~/miniconda3/envs/geopython/lib/python3.10/subprocess.py:966\u001b[0m, in \u001b[0;36mPopen.__init__\u001b[0;34m(self, args, bufsize, executable, stdin, stdout, stderr, preexec_fn, close_fds, shell, cwd, env, universal_newlines, startupinfo, creationflags, restore_signals, start_new_session, pass_fds, user, group, extra_groups, encoding, errors, text, umask, pipesize)\u001b[0m\n\u001b[1;32m    962\u001b[0m         \u001b[38;5;28;01mif\u001b[39;00m \u001b[38;5;28mself\u001b[39m\u001b[38;5;241m.\u001b[39mtext_mode:\n\u001b[1;32m    963\u001b[0m             \u001b[38;5;28mself\u001b[39m\u001b[38;5;241m.\u001b[39mstderr \u001b[38;5;241m=\u001b[39m io\u001b[38;5;241m.\u001b[39mTextIOWrapper(\u001b[38;5;28mself\u001b[39m\u001b[38;5;241m.\u001b[39mstderr,\n\u001b[1;32m    964\u001b[0m                     encoding\u001b[38;5;241m=\u001b[39mencoding, errors\u001b[38;5;241m=\u001b[39merrors)\n\u001b[0;32m--> 966\u001b[0m     \u001b[38;5;28;43mself\u001b[39;49m\u001b[38;5;241;43m.\u001b[39;49m\u001b[43m_execute_child\u001b[49m\u001b[43m(\u001b[49m\u001b[43margs\u001b[49m\u001b[43m,\u001b[49m\u001b[43m \u001b[49m\u001b[43mexecutable\u001b[49m\u001b[43m,\u001b[49m\u001b[43m \u001b[49m\u001b[43mpreexec_fn\u001b[49m\u001b[43m,\u001b[49m\u001b[43m \u001b[49m\u001b[43mclose_fds\u001b[49m\u001b[43m,\u001b[49m\n\u001b[1;32m    967\u001b[0m \u001b[43m                        \u001b[49m\u001b[43mpass_fds\u001b[49m\u001b[43m,\u001b[49m\u001b[43m \u001b[49m\u001b[43mcwd\u001b[49m\u001b[43m,\u001b[49m\u001b[43m \u001b[49m\u001b[43menv\u001b[49m\u001b[43m,\u001b[49m\n\u001b[1;32m    968\u001b[0m \u001b[43m                        \u001b[49m\u001b[43mstartupinfo\u001b[49m\u001b[43m,\u001b[49m\u001b[43m \u001b[49m\u001b[43mcreationflags\u001b[49m\u001b[43m,\u001b[49m\u001b[43m \u001b[49m\u001b[43mshell\u001b[49m\u001b[43m,\u001b[49m\n\u001b[1;32m    969\u001b[0m \u001b[43m                        \u001b[49m\u001b[43mp2cread\u001b[49m\u001b[43m,\u001b[49m\u001b[43m \u001b[49m\u001b[43mp2cwrite\u001b[49m\u001b[43m,\u001b[49m\n\u001b[1;32m    970\u001b[0m \u001b[43m                        \u001b[49m\u001b[43mc2pread\u001b[49m\u001b[43m,\u001b[49m\u001b[43m \u001b[49m\u001b[43mc2pwrite\u001b[49m\u001b[43m,\u001b[49m\n\u001b[1;32m    971\u001b[0m \u001b[43m                        \u001b[49m\u001b[43merrread\u001b[49m\u001b[43m,\u001b[49m\u001b[43m \u001b[49m\u001b[43merrwrite\u001b[49m\u001b[43m,\u001b[49m\n\u001b[1;32m    972\u001b[0m \u001b[43m                        \u001b[49m\u001b[43mrestore_signals\u001b[49m\u001b[43m,\u001b[49m\n\u001b[1;32m    973\u001b[0m \u001b[43m                        \u001b[49m\u001b[43mgid\u001b[49m\u001b[43m,\u001b[49m\u001b[43m \u001b[49m\u001b[43mgids\u001b[49m\u001b[43m,\u001b[49m\u001b[43m \u001b[49m\u001b[43muid\u001b[49m\u001b[43m,\u001b[49m\u001b[43m \u001b[49m\u001b[43mumask\u001b[49m\u001b[43m,\u001b[49m\n\u001b[1;32m    974\u001b[0m \u001b[43m                        \u001b[49m\u001b[43mstart_new_session\u001b[49m\u001b[43m)\u001b[49m\n\u001b[1;32m    975\u001b[0m \u001b[38;5;28;01mexcept\u001b[39;00m:\n\u001b[1;32m    976\u001b[0m     \u001b[38;5;66;03m# Cleanup if the child failed starting.\u001b[39;00m\n\u001b[1;32m    977\u001b[0m     \u001b[38;5;28;01mfor\u001b[39;00m f \u001b[38;5;129;01min\u001b[39;00m \u001b[38;5;28mfilter\u001b[39m(\u001b[38;5;28;01mNone\u001b[39;00m, (\u001b[38;5;28mself\u001b[39m\u001b[38;5;241m.\u001b[39mstdin, \u001b[38;5;28mself\u001b[39m\u001b[38;5;241m.\u001b[39mstdout, \u001b[38;5;28mself\u001b[39m\u001b[38;5;241m.\u001b[39mstderr)):\n",
      "File \u001b[0;32m~/miniconda3/envs/geopython/lib/python3.10/subprocess.py:1842\u001b[0m, in \u001b[0;36mPopen._execute_child\u001b[0;34m(self, args, executable, preexec_fn, close_fds, pass_fds, cwd, env, startupinfo, creationflags, shell, p2cread, p2cwrite, c2pread, c2pwrite, errread, errwrite, restore_signals, gid, gids, uid, umask, start_new_session)\u001b[0m\n\u001b[1;32m   1840\u001b[0m     \u001b[38;5;28;01mif\u001b[39;00m errno_num \u001b[38;5;241m!=\u001b[39m \u001b[38;5;241m0\u001b[39m:\n\u001b[1;32m   1841\u001b[0m         err_msg \u001b[38;5;241m=\u001b[39m os\u001b[38;5;241m.\u001b[39mstrerror(errno_num)\n\u001b[0;32m-> 1842\u001b[0m     \u001b[38;5;28;01mraise\u001b[39;00m child_exception_type(errno_num, err_msg, err_filename)\n\u001b[1;32m   1843\u001b[0m \u001b[38;5;28;01mraise\u001b[39;00m child_exception_type(err_msg)\n",
      "\u001b[0;31mFileNotFoundError\u001b[0m: [Errno 2] No such file or directory: 'open'"
     ]
    }
   ],
   "source": [
    "import os\n",
    "import subprocess\n",
    "\n",
    "import numpy as np\n",
    "import rasterio\n",
    "from rasterio import transform\n",
    "from rasterio.warp import reproject, Resampling\n",
    "\n",
    "\n",
    "tiffname = 'example.tif'\n",
    "\n",
    "with rasterio.Env():\n",
    "\n",
    "    # Consider a 512 x 512 raster centered on 0 degrees E and 0 degrees N\n",
    "    # with each pixel covering 15\".\n",
    "    rows, cols = src_shape = (512, 512)\n",
    "    dpp = 1.0/240  # decimal degrees per pixel\n",
    "    west, south, east, north = -cols*dpp/2, -rows*dpp/2, cols*dpp/2, rows*dpp/2\n",
    "    src_transform = transform.from_bounds(west, south, east, north, cols, rows)\n",
    "    src_crs = {'init': 'EPSG:4326'}\n",
    "    source = np.ones(src_shape, np.uint8)*255\n",
    "\n",
    "    # Prepare to reproject this rasters to a 1024 x 1024 dataset in\n",
    "    # Web Mercator (EPSG:3857) with origin at -237481.5, 237536.4.\n",
    "    dst_shape = (1024, 1024)\n",
    "    dst_transform = transform.from_origin(-237481.5, 237536.4, 425.0, 425.0)\n",
    "    dst_crs = {'init': 'EPSG:3857'}\n",
    "    destination = np.zeros(dst_shape, np.uint8)\n",
    "\n",
    "    reproject(\n",
    "        source,\n",
    "        destination,\n",
    "        src_transform=src_transform,\n",
    "        src_crs=src_crs,\n",
    "        dst_transform=dst_transform,\n",
    "        dst_crs=dst_crs,\n",
    "        resampling=Resampling.nearest)\n",
    "\n",
    "    # Assert that the destination is only partly filled.\n",
    "    assert destination.any()\n",
    "    assert not destination.all()\n",
    "\n",
    "    # Write it out to a file.\n",
    "    with rasterio.open(\n",
    "            tiffname,\n",
    "            'w',\n",
    "            driver='GTiff',\n",
    "            width=dst_shape[1],\n",
    "            height=dst_shape[0],\n",
    "            count=1,\n",
    "            dtype=np.uint8,\n",
    "            nodata=0,\n",
    "            transform=dst_transform,\n",
    "            crs=dst_crs) as dst:\n",
    "        dst.write(destination, indexes=1)\n",
    "\n",
    "info = subprocess.call(['open', tiffname])"
   ]
  },
  {
   "cell_type": "code",
   "execution_count": 495,
   "id": "f0d86d57-9370-4b14-8af5-bcdfcb3165be",
   "metadata": {},
   "outputs": [
    {
     "data": {
      "text/plain": [
       "True"
      ]
     },
     "execution_count": 495,
     "metadata": {},
     "output_type": "execute_result"
    }
   ],
   "source": [
    "not destination.all()"
   ]
  }
 ],
 "metadata": {
  "kernelspec": {
   "display_name": "Python 3 (ipykernel)",
   "language": "python",
   "name": "python3"
  },
  "language_info": {
   "codemirror_mode": {
    "name": "ipython",
    "version": 3
   },
   "file_extension": ".py",
   "mimetype": "text/x-python",
   "name": "python",
   "nbconvert_exporter": "python",
   "pygments_lexer": "ipython3",
   "version": "3.10.4"
  }
 },
 "nbformat": 4,
 "nbformat_minor": 5
}
